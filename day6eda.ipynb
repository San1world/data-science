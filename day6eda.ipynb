{
  "nbformat": 4,
  "nbformat_minor": 0,
  "metadata": {
    "colab": {
      "provenance": []
    },
    "kernelspec": {
      "name": "python3",
      "display_name": "Python 3"
    },
    "language_info": {
      "name": "python"
    }
  },
  "cells": [
    {
      "cell_type": "markdown",
      "source": [
        "predicting customer spending(analyzing and calculating mean)"
      ],
      "metadata": {
        "id": "qKW88FzD8Psl"
      }
    },
    {
      "cell_type": "code",
      "source": [
        "import numpy as np\n",
        "import pandas as pd\n",
        "from scipy import stats\n",
        "\n",
        "data=[10,20,30,40,50,60,70,80,90,100]\n",
        "mean_value=np.mean(data)\n",
        "print(\"Mean:\",{mean_value})\n",
        "print(\"Mean:\",mean_value)"
      ],
      "metadata": {
        "colab": {
          "base_uri": "https://localhost:8080/"
        },
        "id": "5Y16KNsA8Vgd",
        "outputId": "a3462d70-c74b-4f9b-fdca-fcdbfb7fbe93"
      },
      "execution_count": null,
      "outputs": [
        {
          "output_type": "stream",
          "name": "stdout",
          "text": [
            "Mean: {np.float64(55.0)}\n",
            "Mean: 55.0\n"
          ]
        }
      ]
    },
    {
      "cell_type": "markdown",
      "source": [
        "compute variance\n",
        "sigma square=summation of (Xi-myu)square/N\n",
        "Xi= individual data points\n",
        "myu=mean\n",
        "N=number of observations"
      ],
      "metadata": {
        "id": "Q_az-cwf9fcO"
      }
    },
    {
      "cell_type": "markdown",
      "source": [
        "compute standard deviation"
      ],
      "metadata": {
        "id": "WHFPotv4-MPc"
      }
    },
    {
      "cell_type": "code",
      "source": [
        "varience=np.var(data,ddof=1)\n",
        "std_devience=np.std(data,ddof=1)\n",
        "print(f\"Varience:,{varience},Standard Deviation:,{std_devience}\")"
      ],
      "metadata": {
        "colab": {
          "base_uri": "https://localhost:8080/"
        },
        "id": "kiLjTjId-Pvc",
        "outputId": "8dca8c86-3caa-444f-a57b-e36370977ad2"
      },
      "execution_count": null,
      "outputs": [
        {
          "output_type": "stream",
          "name": "stdout",
          "text": [
            "Varience:,916.6666666666666,Standard Deviation:,30.276503540974915\n"
          ]
        }
      ]
    },
    {
      "cell_type": "code",
      "source": [],
      "metadata": {
        "id": "QR7GB-fgRfCw"
      },
      "execution_count": null,
      "outputs": []
    },
    {
      "cell_type": "markdown",
      "source": [
        "heatmap"
      ],
      "metadata": {
        "id": "bkL7GHn6Bf4M"
      }
    },
    {
      "cell_type": "code",
      "source": [
        "import pandas as pd\n",
        "import seaborn as sns\n",
        "import matplotlib.pyplot as plt\n",
        "data={\n",
        "    'Math':[80,85,78,90,88,92,76,89,95,84],\n",
        "    'Science':[75,82,79,91,87,95,72,88,97,83],\n",
        "    'English':[85,80,78,88,90,85,76,89,92,81]\n",
        "}\n",
        "df=pd.DataFrame(data)\n",
        "corr_matrix=df.corr()\n",
        "plt.figure(figsize=(6,4))\n",
        "sns.heatmap(corr_matrix,annot=True,cmap='coolwarm',fmt=\".2f\")\n",
        "plt.title=(\"Students score map\")\n",
        "plt.show()"
      ],
      "metadata": {
        "colab": {
          "base_uri": "https://localhost:8080/",
          "height": 374
        },
        "id": "VmUYLL19B1dN",
        "outputId": "657f5aaa-938e-404e-cd58-ea159aef16fc"
      },
      "execution_count": null,
      "outputs": [
        {
          "output_type": "display_data",
          "data": {
            "text/plain": [
              "<Figure size 600x400 with 2 Axes>"
            ],
            "image/png": "[encoded data removed]"
          },
          "metadata": {}
        }
      ]
    },
    {
      "cell_type": "markdown",
      "source": [
        "Identifying outliers\n",
        ".Box plots and\n",
        "IQR method"
      ],
      "metadata": {
        "id": "z0tTwqLQH1ke"
      }
    },
    {
      "cell_type": "code",
      "source": [
        "import numpy as np\n",
        "import pandas as pd\n",
        "import matplotlib.pyplot as plt\n",
        "data=[10,20,30,40,40,60,70,80,90,100]\n",
        "df=pd.DataFrame(data,columns=['values'])\n",
        "q1=df['values'].quantile(0.25)\n",
        "q3=df['values'].quantile(0.50)\n",
        "iqr=q3-q1\n",
        "lw_bound=q1-1.5*iqr\n",
        "up_bound=q3=+1.5*iqr\n",
        "outliers=df[(df['values']<lw_bound)|(df['values']>up_bound)]\n",
        "plt.boxplot(df['values'])\n",
        "plt.title=('box plot to find corelation')\n",
        "plt.show()\n",
        "print(\"Outliers:\\n\",outliers)"
      ],
      "metadata": {
        "colab": {
          "base_uri": "https://localhost:8080/",
          "height": 604
        },
        "id": "33FWCma_H2Od",
        "outputId": "2c5b5f74-b306-4f1b-bb38-42921e941156"
      },
      "execution_count": null,
      "outputs": [
        {
          "output_type": "display_data",
          "data": {
            "text/plain": [
              "<Figure size 640x480 with 1 Axes>"
            ],
            "image/png": "[encoded data removed]"
          },
          "metadata": {}
        },
        {
          "output_type": "stream",
          "name": "stdout",
          "text": [
            "Outliers:\n",
            "    values\n",
            "2      30\n",
            "3      40\n",
            "4      40\n",
            "5      60\n",
            "6      70\n",
            "7      80\n",
            "8      90\n",
            "9     100\n"
          ]
        }
      ]
    },
    {
      "cell_type": "markdown",
      "source": [
        "Z score.z=(X-myu)/sigma\n",
        ".x=data point.myu=mean.sigma= standard deviation"
      ],
      "metadata": {
        "id": "GjV-bCSuMZEQ"
      }
    },
    {
      "cell_type": "code",
      "source": [
        "from scipy import stats\n",
        "data_array=np.array(stats.zscore(data_array))\n",
        "outliers=data_array[z_score>3]\n",
        "print(\"Outliers using Zscore:\",outliers)"
      ],
      "metadata": {
        "colab": {
          "base_uri": "https://localhost:8080/"
        },
        "id": "2djAywMGOkpd",
        "outputId": "e27d1792-63c8-45ea-cfa2-d3b2f753dcab"
      },
      "execution_count": null,
      "outputs": [
        {
          "output_type": "stream",
          "name": "stdout",
          "text": [
            "Outliers using Zscore: []\n"
          ]
        }
      ]
    },
    {
      "cell_type": "markdown",
      "source": [
        "visualizing outliers in Scatter plot"
      ],
      "metadata": {
        "id": "M-DLSoZvPcUv"
      }
    },
    {
      "cell_type": "code",
      "source": [
        "plt.scatter(range(len(data)),data,color='blue',label=\"Data points\")\n",
        "plt.scatter([data.index(100)],[100],color='red',label=\"outliers\")\n",
        "plt.xlabel(\"Index\")\n",
        "plt.ylabel(\"values\")\n",
        "plt.title=(\"Scatter plot dshowing outliers\")\n",
        "plt.legend()\n",
        "plt.show()"
      ],
      "metadata": {
        "colab": {
          "base_uri": "https://localhost:8080/",
          "height": 449
        },
        "id": "kQGOdgcnPi0F",
        "outputId": "54ed648c-fa4e-4859-81be-9b78b21b48a7"
      },
      "execution_count": null,
      "outputs": [
        {
          "output_type": "display_data",
          "data": {
            "text/plain": [
              "<Figure size 640x480 with 1 Axes>"
            ],
            "image/png": "[encoded data removed]"
          },
          "metadata": {}
        }
      ]
    },
    {
      "cell_type": "markdown",
      "source": [
        "CATEGORICAL DATA"
      ],
      "metadata": {
        "id": "eJjv45BuQ1H2"
      }
    },
    {
      "cell_type": "markdown",
      "source": [
        "Value counts and Frequency table"
      ],
      "metadata": {
        "id": "oomp_9xrQ4L8"
      }
    },
    {
      "cell_type": "code",
      "source": [
        "import pandas as pd\n",
        "data=pd.DataFrame({'category':['Apple','Banana','Apple','Orange','Banana','Apple']})\n",
        "print(data['category'].value_counts())\n",
        "print(data['category'].value_counts(normalize=True)*100)"
      ],
      "metadata": {
        "colab": {
          "base_uri": "https://localhost:8080/"
        },
        "id": "UU-rRuQaQ-ik",
        "outputId": "ae2d70e1-5485-4f53-9110-0880b4120c79"
      },
      "execution_count": null,
      "outputs": [
        {
          "output_type": "stream",
          "name": "stdout",
          "text": [
            "category\n",
            "Apple     3\n",
            "Banana    2\n",
            "Orange    1\n",
            "Name: count, dtype: int64\n",
            "category\n",
            "Apple     50.000000\n",
            "Banana    33.333333\n",
            "Orange    16.666667\n",
            "Name: proportion, dtype: float64\n"
          ]
        }
      ]
    },
    {
      "cell_type": "markdown",
      "source": [
        "bar plots and count plots"
      ],
      "metadata": {
        "id": "m3ClnG3bTLhd"
      }
    },
    {
      "cell_type": "code",
      "source": [
        "import matplotlib.pyplot as plt\n",
        "import seaborn as sns\n",
        "category=['Apple','Banana','Apple','Orange','Banana','Apple']\n",
        "df=pd.DataFrame({'Category':category})\n",
        "df['Category'].value_counts().plot(kind='bar',color=['red','yellow','orange'])\n",
        "plt.xlabel(\"Category\")\n",
        "plt.ylabel(\"Count\")\n",
        "plt.title=(\"Bar plot of category\")\n",
        "plt.show()"
      ],
      "metadata": {
        "colab": {
          "base_uri": "https://localhost:8080/",
          "height": 488
        },
        "id": "m_fZMgaVTSr8",
        "outputId": "a05ac7bd-1af7-44c4-edb1-e480c15cd16c"
      },
      "execution_count": null,
      "outputs": [
        {
          "output_type": "display_data",
          "data": {
            "text/plain": [
              "<Figure size 640x480 with 1 Axes>"
            ],
            "image/png": "[encoded data removed]"
          },
          "metadata": {}
        }
      ]
    },
    {
      "cell_type": "markdown",
      "source": [
        "Encoding caregorical variables"
      ],
      "metadata": {
        "id": "NAtWuewSVbks"
      }
    },
    {
      "cell_type": "code",
      "source": [
        "from sklearn.preprocessing import LabelEncoder,OneHotEncoder\n",
        "df=pd.DataFrame({'Fruits':['Apple','Banana','Orange','Banana','Apple']})\n",
        "label_encoder=LabelEncoder()\n",
        "df['Fruits_label']=label_encoder.fit_transform(df[['Fruits']])\n",
        "print(df)\n",
        "df_one_hot=pd.get_dummies(df['Fruits'])\n",
        "print(df_one_hot)"
      ],
      "metadata": {
        "colab": {
          "base_uri": "https://localhost:8080/"
        },
        "id": "8U5L0ndLVfeU",
        "outputId": "2bd1a7d6-92d9-4164-e441-8c0379f8a244"
      },
      "execution_count": null,
      "outputs": [
        {
          "output_type": "stream",
          "name": "stdout",
          "text": [
            "   Fruits  Fruits_label\n",
            "0   Apple             0\n",
            "1  Banana             1\n",
            "2  Orange             2\n",
            "3  Banana             1\n",
            "4   Apple             0\n",
            "   Apple  Banana  Orange\n",
            "0   True   False   False\n",
            "1  False    True   False\n",
            "2  False   False    True\n",
            "3  False    True   False\n",
            "4   True   False   False\n"
          ]
        },
        {
          "output_type": "stream",
          "name": "stderr",
          "text": [
            "/usr/local/lib/python3.11/dist-packages/sklearn/preprocessing/_label.py:110: DataConversionWarning: A column-vector y was passed when a 1d array was expected. Please change the shape of y to (n_samples, ), for example using ravel().\n",
            "  y = column_or_1d(y, warn=True)\n"
          ]
        }
      ]
    }
  ]
}