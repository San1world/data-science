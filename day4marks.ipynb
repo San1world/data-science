{
  "nbformat": 4,
  "nbformat_minor": 0,
  "metadata": {
    "colab": {
      "provenance": []
    },
    "kernelspec": {
      "name": "python3",
      "display_name": "Python 3"
    },
    "language_info": {
      "name": "python"
    }
  },
  "cells": [
    {
      "cell_type": "code",
      "execution_count": null,
      "metadata": {
        "colab": {
          "base_uri": "https://localhost:8080/"
        },
        "id": "prnR4Yb3OrZJ",
        "outputId": "110f9309-8765-44d3-9a12-9fbb1139e7dc"
      },
      "outputs": [
        {
          "output_type": "stream",
          "name": "stdout",
          "text": [
            "     name   age  marks  attendance passed\n",
            "0   susan  18.0     98          75    yes\n",
            "1    anna  21.0     77          75    yes\n",
            "2    joan  24.0     70          76    yes\n",
            "3  jochim   NaN     68          63     no\n"
          ]
        }
      ],
      "source": [
        "import pandas as pd\n",
        "import numpy as np\n",
        "data={\n",
        "    \"name\":[\"susan\",\"anna\",\"joan\",\"jochim\"],\n",
        "    \"age\":[18,21,24,np.nan],\n",
        "    \"marks\":[98,77,70,68],\n",
        "    \"attendance\":[75,75,76,63,],\n",
        "    \"passed\":[\"yes\",\"yes\",\"yes\",\"no\"]\n",
        "}\n",
        "df=pd.DataFrame(data)\n",
        "print(df)\n",
        "\n"
      ]
    },
    {
      "cell_type": "code",
      "source": [
        "print(df.isnull().sum())"
      ],
      "metadata": {
        "colab": {
          "base_uri": "https://localhost:8080/"
        },
        "id": "52Cb3eEpRw0o",
        "outputId": "cd742d5a-cba7-4681-c0b6-33778f337ffd"
      },
      "execution_count": null,
      "outputs": [
        {
          "output_type": "stream",
          "name": "stdout",
          "text": [
            "name          0\n",
            "age           1\n",
            "marks         0\n",
            "attendance    0\n",
            "passed        0\n",
            "dtype: int64\n"
          ]
        }
      ]
    },
    {
      "cell_type": "code",
      "source": [
        "df_cleaned=df.dropna()\n",
        "print(df_cleaned)"
      ],
      "metadata": {
        "colab": {
          "base_uri": "https://localhost:8080/"
        },
        "id": "OOKEhkS5SWcP",
        "outputId": "7bbf6b57-6ac2-4283-e570-1d511ca5b58d"
      },
      "execution_count": null,
      "outputs": [
        {
          "output_type": "stream",
          "name": "stdout",
          "text": [
            "    name   age  marks  attendance passed\n",
            "0  susan  18.0     98          75    yes\n",
            "1   anna  21.0     77          75    yes\n",
            "2   joan  24.0     70          76    yes\n"
          ]
        }
      ]
    },
    {
      "cell_type": "code",
      "source": [
        "df[\"age\"].fillna(df[\"age\"].mean(),inplace=True)\n",
        "df[\"marks\"].fillna(df[\"marks\"].median(),inplace=True)\n",
        "df[\"attendance\"].fillna(df[\"attendance\"].mean(),inplace=True)\n",
        "df[\"passed\"].fillna(df[\"passed\"].mode()[0],inplace=True)\n",
        "\n",
        "df.ffill(inplace=True)\n",
        "df.bfill(inplace=True)\n",
        "df.drop_duplicates(inplace=True)\n",
        "\n",
        "from sklearn.preprocessing import StandardScaler\n",
        "scaler=StandardScaler()\n",
        "df_scaled=df.copy()\n",
        "df_scaled[[\"marks\",\"attendance\",]]=scaler.fit_transform(df[[\"marks\",\"attendance\"]])\n",
        "print(df_scaled)\n"
      ],
      "metadata": {
        "colab": {
          "base_uri": "https://localhost:8080/"
        },
        "id": "whOl8032Sspv",
        "outputId": "a91afb92-57d5-49e0-a6e8-a691028bd811"
      },
      "execution_count": null,
      "outputs": [
        {
          "output_type": "stream",
          "name": "stdout",
          "text": [
            "     name   age     marks  attendance passed\n",
            "0   susan  18.0  1.662145    0.513436    yes\n",
            "1    anna  21.0 -0.105199    0.513436    yes\n",
            "2    joan  24.0 -0.694314    0.700140    yes\n",
            "3  jochim  21.0 -0.862632   -1.727012     no\n"
          ]
        },
        {
          "output_type": "stream",
          "name": "stderr",
          "text": [
            "<ipython-input-41-503ae0435682>:1: FutureWarning: A value is trying to be set on a copy of a DataFrame or Series through chained assignment using an inplace method.\n",
            "The behavior will change in pandas 3.0. This inplace method will never work because the intermediate object on which we are setting values always behaves as a copy.\n",
            "\n",
            "For example, when doing 'df[col].method(value, inplace=True)', try using 'df.method({col: value}, inplace=True)' or df[col] = df[col].method(value) instead, to perform the operation inplace on the original object.\n",
            "\n",
            "\n",
            "  df[\"age\"].fillna(df[\"age\"].mean(),inplace=True)\n",
            "<ipython-input-41-503ae0435682>:2: FutureWarning: A value is trying to be set on a copy of a DataFrame or Series through chained assignment using an inplace method.\n",
            "The behavior will change in pandas 3.0. This inplace method will never work because the intermediate object on which we are setting values always behaves as a copy.\n",
            "\n",
            "For example, when doing 'df[col].method(value, inplace=True)', try using 'df.method({col: value}, inplace=True)' or df[col] = df[col].method(value) instead, to perform the operation inplace on the original object.\n",
            "\n",
            "\n",
            "  df[\"marks\"].fillna(df[\"marks\"].median(),inplace=True)\n",
            "<ipython-input-41-503ae0435682>:3: FutureWarning: A value is trying to be set on a copy of a DataFrame or Series through chained assignment using an inplace method.\n",
            "The behavior will change in pandas 3.0. This inplace method will never work because the intermediate object on which we are setting values always behaves as a copy.\n",
            "\n",
            "For example, when doing 'df[col].method(value, inplace=True)', try using 'df.method({col: value}, inplace=True)' or df[col] = df[col].method(value) instead, to perform the operation inplace on the original object.\n",
            "\n",
            "\n",
            "  df[\"attendance\"].fillna(df[\"attendance\"].mean(),inplace=True)\n",
            "<ipython-input-41-503ae0435682>:4: FutureWarning: A value is trying to be set on a copy of a DataFrame or Series through chained assignment using an inplace method.\n",
            "The behavior will change in pandas 3.0. This inplace method will never work because the intermediate object on which we are setting values always behaves as a copy.\n",
            "\n",
            "For example, when doing 'df[col].method(value, inplace=True)', try using 'df.method({col: value}, inplace=True)' or df[col] = df[col].method(value) instead, to perform the operation inplace on the original object.\n",
            "\n",
            "\n",
            "  df[\"passed\"].fillna(df[\"passed\"].mode()[0],inplace=True)\n"
          ]
        }
      ]
    },
    {
      "cell_type": "code",
      "source": [
        "from sklearn.preprocessing import MinMaxScaler\n",
        "scaler=MinMaxScaler()\n",
        "df_scaled=df.copy()\n",
        "df_scaled[[\"marks\",\"attendance\",]]=scaler.fit_transform(df[[\"marks\",\"attendance\"]])\n",
        "print(df_scaled)"
      ],
      "metadata": {
        "colab": {
          "base_uri": "https://localhost:8080/"
        },
        "id": "Cl4yFoHoSss2",
        "outputId": "3421059e-c3ae-43b4-9153-4ce4fce4dfef"
      },
      "execution_count": null,
      "outputs": [
        {
          "output_type": "stream",
          "name": "stdout",
          "text": [
            "     name   age     marks  attendance passed\n",
            "0   susan  18.0  1.000000    0.923077    yes\n",
            "1    anna  21.0  0.300000    0.923077    yes\n",
            "2    joan  24.0  0.066667    1.000000    yes\n",
            "3  jochim  21.0  0.000000    0.000000     no\n"
          ]
        }
      ]
    },
    {
      "cell_type": "code",
      "source": [
        "df_encoded=pd.get_dummies(df,columns=[\"passed\"],drop_first=True)\n",
        "print(df_encoded)"
      ],
      "metadata": {
        "colab": {
          "base_uri": "https://localhost:8080/"
        },
        "id": "s6pbBJS-SswP",
        "outputId": "9202efa9-7d91-4890-bcf0-e7417eead6e1"
      },
      "execution_count": null,
      "outputs": [
        {
          "output_type": "stream",
          "name": "stdout",
          "text": [
            "     name   age  marks  attendance  passed_yes\n",
            "0   susan  18.0     98          75        True\n",
            "1    anna  21.0     77          75        True\n",
            "2    joan  24.0     70          76        True\n",
            "3  jochim  21.0     68          63       False\n"
          ]
        }
      ]
    },
    {
      "cell_type": "code",
      "source": [
        "from sklearn.preprocessing import LabelEncoder\n",
        "encoder=LabelEncoder()\n",
        "df[\"passed\"]=encoder.fit_transform(df[\"passed\"])\n",
        "print(df)"
      ],
      "metadata": {
        "colab": {
          "base_uri": "https://localhost:8080/"
        },
        "id": "x7zdrGqRZBO9",
        "outputId": "6cc5ba98-156e-4c42-f832-191bbef947c2"
      },
      "execution_count": null,
      "outputs": [
        {
          "output_type": "stream",
          "name": "stdout",
          "text": [
            "     name   age  marks  attendance  passed\n",
            "0   susan  18.0     98          75       1\n",
            "1    anna  21.0     77          75       1\n",
            "2    joan  24.0     70          76       1\n",
            "3  jochim  21.0     68          63       0\n"
          ]
        }
      ]
    },
    {
      "cell_type": "code",
      "source": [
        "def performance_category(marks):\n",
        "  if marks>=85:\n",
        "    return\"High\"\n",
        "  elif marks>=70:\n",
        "    return\"Medium\"\n",
        "  else:\n",
        "    return\"Low\"\n",
        "df[\"performance\"]=df[\"marks\"].apply(performance_category)\n",
        "print(df)"
      ],
      "metadata": {
        "colab": {
          "base_uri": "https://localhost:8080/"
        },
        "id": "wfrKqB2_ZUsl",
        "outputId": "61054e69-6739-4135-9750-86af893ffba0"
      },
      "execution_count": null,
      "outputs": [
        {
          "output_type": "stream",
          "name": "stdout",
          "text": [
            "     name   age  marks  attendance  passed performance\n",
            "0   susan  18.0     98          75       1        High\n",
            "1    anna  21.0     77          75       1      Medium\n",
            "2    joan  24.0     70          76       1      Medium\n",
            "3  jochim  21.0     68          63       0         Low\n"
          ]
        }
      ]
    },
    {
      "cell_type": "code",
      "source": [],
      "metadata": {
        "id": "ghGQEc1mbDIL"
      },
      "execution_count": null,
      "outputs": []
    },
    {
      "cell_type": "code",
      "source": [
        "df[\"age_group\"]=pd.cut(df[\"age\"],bins=[18,21,24,28],labels=[\"Young\",\"Adult\",\"Senior\"])\n",
        "print(df)"
      ],
      "metadata": {
        "colab": {
          "base_uri": "https://localhost:8080/"
        },
        "id": "npiYDOT-ZU3U",
        "outputId": "dcc476f7-6a3b-446e-c9ca-f45b5f99d1b8"
      },
      "execution_count": null,
      "outputs": [
        {
          "output_type": "stream",
          "name": "stdout",
          "text": [
            "     name   age  marks  attendance  passed performance age_group\n",
            "0   susan  18.0     98          75       1        High       NaN\n",
            "1    anna  21.0     77          75       1      Medium     Young\n",
            "2    joan  24.0     70          76       1      Medium     Adult\n",
            "3  jochim  21.0     68          63       0         Low     Young\n"
          ]
        }
      ]
    }
  ]
}