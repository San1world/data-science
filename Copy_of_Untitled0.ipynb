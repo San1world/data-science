{
  "nbformat": 4,
  "nbformat_minor": 0,
  "metadata": {
    "colab": {
      "provenance": []
    },
    "kernelspec": {
      "name": "python3",
      "display_name": "Python 3"
    },
    "language_info": {
      "name": "python"
    }
  },
  "cells": [
    {
      "cell_type": "code",
      "execution_count": null,
      "metadata": {
        "colab": {
          "base_uri": "https://localhost:8080/"
        },
        "id": "5NnOKPAy7NuF",
        "outputId": "e2109e82-51ac-4eff-83bf-8d63146c2393"
      },
      "outputs": [
        {
          "output_type": "stream",
          "name": "stdout",
          "text": [
            "Jose\n",
            "19\n",
            "26.061679307694877\n",
            "over weight\n"
          ]
        }
      ],
      "source": [
        "pnt_n1=\"Jose\"\n",
        "pnt_age=\"19\"\n",
        "pnt_hgt=1.73\n",
        "pnt_wgt=78\n",
        "\n",
        "pnt_bmi=pnt_wgt/(pnt_hgt**2)\n",
        "print(pnt_n1)\n",
        "print(pnt_age)\n",
        "print(pnt_bmi)\n",
        "if (pnt_bmi<=18.5):\n",
        "  print(\"under weight\")\n",
        "elif (pnt_bmi>=18.5 and pnt_bmi<=24.9):\n",
        "  print(\"healthy\")\n",
        "else:\n",
        "  print(\"over weight\")"
      ]
    },
    {
      "cell_type": "code",
      "source": [
        "import numpy as np\n",
        "hrt_rate=np.array([120,119,125,128,120,190,120])\n",
        "print(\"Heart rate:\",hrt_rate)\n",
        "print(\"Highest heart rate:\", np.max(hrt_rate))\n",
        "print(\"Lowest heart rate:\", np.min(hrt_rate))\n",
        "print(\"Average heart rate:\", np.mean(hrt_rate))\n"
      ],
      "metadata": {
        "id": "rleHJP4bDl_a",
        "colab": {
          "base_uri": "https://localhost:8080/"
        },
        "outputId": "f6c58475-74b6-416f-ce61-4cdb5d0b6198"
      },
      "execution_count": null,
      "outputs": [
        {
          "output_type": "stream",
          "name": "stdout",
          "text": [
            "Heart rate: [120 119 125 128 120 190 120]\n",
            "Highest heart rate: 190\n",
            "Lowest heart rate: 119\n",
            "Average heart rate: 131.71428571428572\n"
          ]
        }
      ]
    },
    {
      "cell_type": "code",
      "source": [
        "import pandas as pd\n",
        "data={\"Patient\":[\"Jose\",\"San\",\"Ruby\"],\n",
        "      \"Age\":[\"23\",\"25\",\"20\"],\n",
        "      \"chllevel\":[200,240,290],\n",
        "      \"bmi\":[19.5,26.3,20]\n",
        "}\n",
        "df=pd.DataFrame(data)\n",
        "print(df)"
      ],
      "metadata": {
        "colab": {
          "base_uri": "https://localhost:8080/"
        },
        "id": "r12kuRupK24Z",
        "outputId": "cd31d4b4-0693-44fb-a762-b1530ccf4278"
      },
      "execution_count": null,
      "outputs": [
        {
          "output_type": "stream",
          "name": "stdout",
          "text": [
            "  Patient Age  chllevel   bmi\n",
            "0    Jose  23       200  19.5\n",
            "1     San  25       240  26.3\n",
            "2    Ruby  20       290  20.0\n"
          ]
        }
      ]
    },
    {
      "cell_type": "code",
      "source": [
        "high_chl=df[df[\"chllevel\"] > 240]\n",
        "print(high_chl)"
      ],
      "metadata": {
        "colab": {
          "base_uri": "https://localhost:8080/"
        },
        "id": "-w_8JMsLM5Qp",
        "outputId": "1173d174-d221-4532-dd15-63d9959f667e"
      },
      "execution_count": null,
      "outputs": [
        {
          "output_type": "stream",
          "name": "stdout",
          "text": [
            "  Patient Age  chllevel\n",
            "2    Ruby  20       290\n"
          ]
        }
      ]
    },
    {
      "cell_type": "code",
      "source": [
        "df_sorted=df.sort_values(by=\"bmi\",ascending=False)\n",
        "print(df_sorted)"
      ],
      "metadata": {
        "colab": {
          "base_uri": "https://localhost:8080/"
        },
        "id": "YkimxypXQkC5",
        "outputId": "cac7b082-57e1-4eee-84c8-fed06df31b9b"
      },
      "execution_count": null,
      "outputs": [
        {
          "output_type": "stream",
          "name": "stdout",
          "text": [
            "  Patient Age  chllevel   bmi\n",
            "1     San  25       240  26.3\n",
            "2    Ruby  20       290  20.0\n",
            "0    Jose  23       200  19.5\n"
          ]
        }
      ]
    },
    {
      "cell_type": "code",
      "source": [],
      "metadata": {
        "id": "7JJyj7-dTMZw"
      },
      "execution_count": null,
      "outputs": []
    }
  ]
}