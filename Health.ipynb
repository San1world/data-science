{
  "nbformat": 4,
  "nbformat_minor": 0,
  "metadata": {
    "colab": {
      "provenance": []
    },
    "kernelspec": {
      "name": "python3",
      "display_name": "Python 3"
    },
    "language_info": {
      "name": "python"
    }
  },
  "cells": [
    {
      "cell_type": "code",
      "execution_count": null,
      "metadata": {
        "colab": {
          "base_uri": "https://localhost:8080/"
        },
        "id": "5NnOKPAy7NuF",
        "outputId": "632db6b1-5219-4600-8d24-c5e9a72df67c"
      },
      "outputs": [
        {
          "output_type": "stream",
          "name": "stdout",
          "text": [
            "Jose\n",
            "19\n",
            "26.061679307694877\n",
            "over weight\n"
          ]
        }
      ],
      "source": [
        "pnt_n1=\"Jose\"\n",
        "pnt_age=\"19\"\n",
        "pnt_hgt=1.73\n",
        "pnt_wgt=78\n",
        "\n",
        "pnt_bmi=pnt_wgt/(pnt_hgt**2)\n",
        "print(pnt_n1)\n",
        "print(pnt_age)\n",
        "print(pnt_bmi)\n",
        "if (pnt_bmi<=18.5):\n",
        "  print(\"under weight\")\n",
        "elif (pnt_bmi>=18.5 and pnt_bmi<=24.9):\n",
        "  print(\"healthy\")\n",
        "else:\n",
        "  print(\"over weight\")"
      ]
    },
    {
      "cell_type": "code",
      "source": [
        "import numpy as np\n",
        "hrt_rate=np.array([120,119,125,128,120,190,120])\n",
        "print(\"Heart rate:\",hrt_rate)\n",
        "print(\"Highest heart rate:\", np.max(hrt_rate))\n",
        "print(\"Lowest heart rate:\", np.min(hrt_rate))\n",
        "print(\"Average heart rate:\", np.mean(hrt_rate))"
      ],
      "metadata": {
        "id": "rleHJP4bDl_a",
        "colab": {
          "base_uri": "https://localhost:8080/"
        },
        "outputId": "3d45093d-a2e7-4b82-95d4-ef90d993cc5a"
      },
      "execution_count": null,
      "outputs": [
        {
          "output_type": "stream",
          "name": "stdout",
          "text": [
            "Heart rate: [120 119 125 128 120 190 120]\n",
            "Highest heart rate: 190\n",
            "Lowest heart rate: 119\n",
            "Average heart rate: 131.71428571428572\n"
          ]
        }
      ]
    },
    {
      "cell_type": "code",
      "source": [
        "import pandas as pd\n",
        "data={\"Patient\":[\"Jose\",\"San\",\"Ruby\"],\n",
        "      \"Age\":[\"23\",\"25\",\"20\"],\n",
        "      \"chllevel\":[200,240,290],\n",
        "      \"bmi\":[19.5,26.3,20]\n",
        "}\n",
        "df=pd.DataFrame(data)\n",
        "print(df)"
      ],
      "metadata": {
        "colab": {
          "base_uri": "https://localhost:8080/"
        },
        "id": "r12kuRupK24Z",
        "outputId": "c41862aa-cf49-402c-9fea-dfe0936c2be8"
      },
      "execution_count": null,
      "outputs": [
        {
          "output_type": "stream",
          "name": "stdout",
          "text": [
            "  Patient Age  chllevel   bmi\n",
            "0    Jose  23       200  19.5\n",
            "1     San  25       240  26.3\n",
            "2    Ruby  20       290  20.0\n"
          ]
        }
      ]
    },
    {
      "cell_type": "code",
      "source": [
        "high_chl=df[df[\"chllevel\"] > 240]\n",
        "print(high_chl)"
      ],
      "metadata": {
        "colab": {
          "base_uri": "https://localhost:8080/"
        },
        "id": "-w_8JMsLM5Qp",
        "outputId": "69c2ea39-91d8-45fc-bc61-4fc6a08df7d6"
      },
      "execution_count": null,
      "outputs": [
        {
          "output_type": "stream",
          "name": "stdout",
          "text": [
            "  Patient Age  chllevel   bmi    risk\n",
            "2    Ruby  20       290  20.0  medium\n"
          ]
        }
      ]
    },
    {
      "cell_type": "code",
      "source": [
        "df_sorted=df.sort_values(by=\"bmi\",ascending=False)\n",
        "print(df_sorted)"
      ],
      "metadata": {
        "colab": {
          "base_uri": "https://localhost:8080/"
        },
        "id": "YkimxypXQkC5",
        "outputId": "6f1a7c9a-e6ba-4865-d652-683e56e09daa"
      },
      "execution_count": null,
      "outputs": [
        {
          "output_type": "stream",
          "name": "stdout",
          "text": [
            "  Patient Age  chllevel   bmi\n",
            "1     San  25       240  26.3\n",
            "2    Ruby  20       290  20.0\n",
            "0    Jose  23       200  19.5\n"
          ]
        }
      ]
    },
    {
      "cell_type": "code",
      "source": [
        "df['risk']=[\"low\",\"high\",\"medium\"]\n",
        "print(df)"
      ],
      "metadata": {
        "id": "7JJyj7-dTMZw",
        "colab": {
          "base_uri": "https://localhost:8080/"
        },
        "outputId": "6cea078e-c19b-4793-bd8d-3ee0f3c48d8b"
      },
      "execution_count": null,
      "outputs": [
        {
          "output_type": "stream",
          "name": "stdout",
          "text": [
            "  Patient Age  chllevel   bmi    risk\n",
            "0    Jose  23       200  19.5     low\n",
            "1     San  25       240  26.3    high\n",
            "2    Ruby  20       290  20.0  medium\n"
          ]
        }
      ]
    },
    {
      "cell_type": "code",
      "source": [
        "import pandas as pd\n",
        "from google.colab import files # import the files object from google.colab\n",
        "\n",
        "df.to_csv(\"Health_care_dataanalysis.csv\",index=False)\n",
        "files.download(\"Health_care_dataanalysis.csv\") # Now 'files' is defined and can be used."
      ],
      "metadata": {
        "colab": {
          "base_uri": "https://localhost:8080/",
          "height": 17
        },
        "id": "Z_SZ4yxX07Bs",
        "outputId": "52262648-4735-4aa0-96e2-f319747cb59f"
      },
      "execution_count": null,
      "outputs": [
        {
          "output_type": "display_data",
          "data": {
            "text/plain": [
              "<IPython.core.display.Javascript object>"
            ],
            "application/javascript": [
              "\n",
              "    async function download(id, filename, size) {\n",
              "      if (!google.colab.kernel.accessAllowed) {\n",
              "        return;\n",
              "      }\n",
              "      const div = document.createElement('div');\n",
              "      const label = document.createElement('label');\n",
              "      label.textContent = `Downloading \"${filename}\": `;\n",
              "      div.appendChild(label);\n",
              "      const progress = document.createElement('progress');\n",
              "      progress.max = size;\n",
              "      div.appendChild(progress);\n",
              "      document.body.appendChild(div);\n",
              "\n",
              "      const buffers = [];\n",
              "      let downloaded = 0;\n",
              "\n",
              "      const channel = await google.colab.kernel.comms.open(id);\n",
              "      // Send a message to notify the kernel that we're ready.\n",
              "      channel.send({})\n",
              "\n",
              "      for await (const message of channel.messages) {\n",
              "        // Send a message to notify the kernel that we're ready.\n",
              "        channel.send({})\n",
              "        if (message.buffers) {\n",
              "          for (const buffer of message.buffers) {\n",
              "            buffers.push(buffer);\n",
              "            downloaded += buffer.byteLength;\n",
              "            progress.value = downloaded;\n",
              "          }\n",
              "        }\n",
              "      }\n",
              "      const blob = new Blob(buffers, {type: 'application/binary'});\n",
              "      const a = document.createElement('a');\n",
              "      a.href = window.URL.createObjectURL(blob);\n",
              "      a.download = filename;\n",
              "      div.appendChild(a);\n",
              "      a.click();\n",
              "      div.remove();\n",
              "    }\n",
              "  "
            ]
          },
          "metadata": {}
        },
        {
          "output_type": "display_data",
          "data": {
            "text/plain": [
              "<IPython.core.display.Javascript object>"
            ],
            "application/javascript": [
              "download(\"download_0b9d7d62-816c-4682-ace2-1c370f4b9124\", \"Health_care_dataanalysis.csv\", 96)"
            ]
          },
          "metadata": {}
        }
      ]
    }
  ]
}